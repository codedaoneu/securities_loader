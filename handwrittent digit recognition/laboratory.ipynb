{
 "cells": [
  {
   "cell_type": "code",
   "execution_count": 1,
   "id": "750d92fa",
   "metadata": {},
   "outputs": [],
   "source": [
    "import numpy as np\n",
    "from sklearn.cluster import KMeans \n",
    "import matplotlib.pyplot as plt\n",
    "from scipy.spatial.distance import cdist\n",
    "from sklearn.metrics import accuracy_score\n",
    "import cv2\n",
    "from PIL import Image"
   ]
  },
  {
   "cell_type": "code",
   "execution_count": 2,
   "id": "cb3bb481",
   "metadata": {},
   "outputs": [
    {
     "name": "stderr",
     "output_type": "stream",
     "text": [
      "2023-02-12 23:06:07.552815: I tensorflow/core/platform/cpu_feature_guard.cc:193] This TensorFlow binary is optimized with oneAPI Deep Neural Network Library (oneDNN) to use the following CPU instructions in performance-critical operations:  AVX2 FMA\n",
      "To enable them in other operations, rebuild TensorFlow with the appropriate compiler flags.\n"
     ]
    }
   ],
   "source": [
    "from keras.datasets import mnist"
   ]
  },
  {
   "cell_type": "code",
   "execution_count": 3,
   "id": "48d675dc",
   "metadata": {},
   "outputs": [],
   "source": [
    "(train_X, train_y), (test_X, test_y) = mnist.load_data()"
   ]
  },
  {
   "cell_type": "code",
   "execution_count": 4,
   "id": "d1c9d2b0",
   "metadata": {},
   "outputs": [
    {
     "data": {
      "text/plain": [
       "(60000, 28, 28)"
      ]
     },
     "execution_count": 4,
     "metadata": {},
     "output_type": "execute_result"
    }
   ],
   "source": [
    "train_X.shape"
   ]
  },
  {
   "cell_type": "code",
   "execution_count": 5,
   "id": "3c2c4688",
   "metadata": {
    "scrolled": true
   },
   "outputs": [],
   "source": [
    "def show_img(img):\n",
    "    plt.imshow(img,cmap=plt.get_cmap('gray'))\n",
    "    plt.show()"
   ]
  },
  {
   "cell_type": "code",
   "execution_count": 6,
   "id": "b4d40725",
   "metadata": {},
   "outputs": [
    {
     "data": {
      "text/plain": [
       "(28, 28)"
      ]
     },
     "execution_count": 6,
     "metadata": {},
     "output_type": "execute_result"
    }
   ],
   "source": [
    "train_X[0].shape"
   ]
  },
  {
   "cell_type": "code",
   "execution_count": 8,
   "id": "06eec80c",
   "metadata": {},
   "outputs": [],
   "source": [
    "train_X_0 = train_X[train_y==0,:]"
   ]
  },
  {
   "cell_type": "code",
   "execution_count": 9,
   "id": "2b1feb58",
   "metadata": {},
   "outputs": [
    {
     "data": {
      "image/png": "[encoded data removed]",
      "text/plain": [
       "<Figure size 640x480 with 1 Axes>"
      ]
     },
     "metadata": {},
     "output_type": "display_data"
    }
   ],
   "source": [
    "show_img(train_X[0])"
   ]
  },
  {
   "cell_type": "code",
   "execution_count": 10,
   "id": "8c0841b9",
   "metadata": {},
   "outputs": [],
   "source": [
    "X_centroid = np.mean(train_X_0, axis=0)"
   ]
  },
  {
   "cell_type": "code",
   "execution_count": 11,
   "id": "172ff11c",
   "metadata": {},
   "outputs": [
    {
     "data": {
      "text/plain": [
       "10"
      ]
     },
     "execution_count": 11,
     "metadata": {},
     "output_type": "execute_result"
    }
   ],
   "source": [
    "len(set(train_y))"
   ]
  },
  {
   "cell_type": "code",
   "execution_count": 12,
   "id": "41e4a79f",
   "metadata": {},
   "outputs": [
    {
     "data": {
      "image/png": "[encoded data removed]",
      "text/plain": [
       "<Figure size 640x480 with 1 Axes>"
      ]
     },
     "metadata": {},
     "output_type": "display_data"
    }
   ],
   "source": [
    "show_img(X_centroid)"
   ]
  },
  {
   "cell_type": "code",
   "execution_count": 13,
   "id": "da408f08",
   "metadata": {},
   "outputs": [],
   "source": [
    "def calculate_centroid(train_X, train_y):\n",
    "    centroids = []\n",
    "    for i in range(len(set(train_y))):\n",
    "        data = train_X[train_y==i,:]\n",
    "        centroid = np.mean(data, axis=0)\n",
    "        centroids.append(centroid)\n",
    "    return np.array(centroids)\n",
    "\n",
    "def distances(x_test, centroids):\n",
    "    centroids = centroids.reshape(centroids.shape[0], centroids.shape[1]*centroids.shape[2])\n",
    "    x_test = x_test.reshape(x_test.shape[0]*x_test.shape[1])\n",
    "    X2 = np.sum(centroids*centroids, 1)\n",
    "    z2 = np.sum(x_test*x_test)\n",
    "    D = X2 + z2 - 2*centroids.dot(x_test)\n",
    "    return np.argmin(D)\n",
    "\n",
    "def get_labels(test_X, centroids):\n",
    "    labels = []\n",
    "    for i in range(test_X.shape[0]):\n",
    "        labels.append(distances(test_X[i],centroids))\n",
    "    return np.array(labels)"
   ]
  },
  {
   "cell_type": "code",
   "execution_count": 14,
   "id": "2168f789",
   "metadata": {},
   "outputs": [],
   "source": [
    "centroids = calculate_centroid(train_X, train_y)\n",
    "y_pred = get_labels(test_X, centroids)"
   ]
  },
  {
   "cell_type": "code",
   "execution_count": 15,
   "id": "8acf7d95",
   "metadata": {},
   "outputs": [
    {
     "data": {
      "text/plain": [
       "0.8203"
      ]
     },
     "execution_count": 15,
     "metadata": {},
     "output_type": "execute_result"
    }
   ],
   "source": [
    "accuracy_score(test_y, y_pred)"
   ]
  },
  {
   "cell_type": "code",
   "execution_count": 16,
   "id": "f927c525",
   "metadata": {},
   "outputs": [],
   "source": [
    "a = np.array([2,4,1,5,6,7,9])"
   ]
  },
  {
   "cell_type": "code",
   "execution_count": 17,
   "id": "80b511ff",
   "metadata": {},
   "outputs": [
    {
     "name": "stdout",
     "output_type": "stream",
     "text": [
      "2\n"
     ]
    }
   ],
   "source": [
    "print(np.argmin(a))"
   ]
  },
  {
   "cell_type": "code",
   "execution_count": 38,
   "id": "77244e98",
   "metadata": {},
   "outputs": [],
   "source": [
    "image = Image.open('test_gray.jpg')\n",
    "new_image = image.resize((28, 28))\n",
    "new_image.save('myimage_28.jpg')"
   ]
  },
  {
   "cell_type": "code",
   "execution_count": 39,
   "id": "cc908f15",
   "metadata": {},
   "outputs": [
    {
     "data": {
      "text/plain": [
       "True"
      ]
     },
     "execution_count": 39,
     "metadata": {},
     "output_type": "execute_result"
    }
   ],
   "source": [
    "img = cv2.imread('myimage_28.jpg')\n",
    "img = cv2.cvtColor(img, cv2.COLOR_BGR2GRAY)\n",
    "gray = 255 - img\n",
    "cv2.imwrite('output.jpg', gray)"
   ]
  },
  {
   "cell_type": "code",
   "execution_count": 40,
   "id": "84493be4",
   "metadata": {},
   "outputs": [],
   "source": [
    "img = cv2.imread('output.jpg')"
   ]
  },
  {
   "cell_type": "code",
   "execution_count": 41,
   "id": "d7ec5725",
   "metadata": {},
   "outputs": [],
   "source": [
    "input_img = img[:,:,0]"
   ]
  },
  {
   "cell_type": "code",
   "execution_count": 42,
   "id": "23944c55",
   "metadata": {},
   "outputs": [],
   "source": [
    "input_ls = []\n",
    "input_ls.append(input_img)\n",
    "input_ls = np.array(input_ls)"
   ]
  },
  {
   "cell_type": "code",
   "execution_count": 44,
   "id": "15f89435",
   "metadata": {},
   "outputs": [
    {
     "data": {
      "text/plain": [
       "array([1])"
      ]
     },
     "execution_count": 44,
     "metadata": {},
     "output_type": "execute_result"
    }
   ],
   "source": [
    "get_labels(input_ls, centroids)"
   ]
  },
  {
   "cell_type": "code",
   "execution_count": 47,
   "id": "f5cfb276",
   "metadata": {},
   "outputs": [],
   "source": [
    "D, label = distances_all(input_img, centroids)"
   ]
  },
  {
   "cell_type": "code",
   "execution_count": 48,
   "id": "ca3996b0",
   "metadata": {},
   "outputs": [
    {
     "data": {
      "text/plain": [
       "array([1116129.72011183, -624437.34375512, -348364.98484868,\n",
       "         22582.73334715,   78166.39666563, -303060.38162939,\n",
       "        154369.25243625,  253916.46799146,  -83018.43265017,\n",
       "        237659.71629312])"
      ]
     },
     "execution_count": 48,
     "metadata": {},
     "output_type": "execute_result"
    }
   ],
   "source": [
    "D"
   ]
  },
  {
   "cell_type": "code",
   "execution_count": 49,
   "id": "2e8adbd7",
   "metadata": {},
   "outputs": [
    {
     "data": {
      "image/png": "[encoded data removed]",
      "text/plain": [
       "<Figure size 640x480 with 1 Axes>"
      ]
     },
     "metadata": {},
     "output_type": "display_data"
    }
   ],
   "source": [
    "show_img(input_img)"
   ]
  },
  {
   "cell_type": "code",
   "execution_count": null,
   "id": "06652b82",
   "metadata": {},
   "outputs": [],
   "source": []
  }
 ],
 "metadata": {
  "kernelspec": {
   "display_name": "main_projects",
   "language": "python",
   "name": "main_projects"
  },
  "language_info": {
   "codemirror_mode": {
    "name": "ipython",
    "version": 3
   },
   "file_extension": ".py",
   "mimetype": "text/x-python",
   "name": "python",
   "nbconvert_exporter": "python",
   "pygments_lexer": "ipython3",
   "version": "3.9.4"
  }
 },
 "nbformat": 4,
 "nbformat_minor": 5
}
