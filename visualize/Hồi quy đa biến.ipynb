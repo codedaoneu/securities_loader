{
 "cells": [
  {
   "cell_type": "code",
   "execution_count": 1,
   "id": "e4acb71d",
   "metadata": {},
   "outputs": [],
   "source": [
    "import pandas as pd\n",
    "import numpy as np\n",
    "import os\n",
    "import matplotlib.pyplot as plt\n",
    "from sklearn.linear_model import LinearRegression\n",
    "from sklearn import metrics\n",
    "import scipy\n",
    "import statsmodels.api as sm"
   ]
  },
  {
   "cell_type": "code",
   "execution_count": 2,
   "id": "d9b64078",
   "metadata": {},
   "outputs": [],
   "source": [
    "data = pd.read_csv('data/house_prices/train.csv')"
   ]
  },
  {
   "cell_type": "code",
   "execution_count": 6,
   "id": "58847528",
   "metadata": {
    "scrolled": true
   },
   "outputs": [
    {
     "name": "stdout",
     "output_type": "stream",
     "text": [
      "<class 'pandas.core.frame.DataFrame'>\n",
      "RangeIndex: 1460 entries, 0 to 1459\n",
      "Data columns (total 81 columns):\n",
      " #   Column         Non-Null Count  Dtype  \n",
      "---  ------         --------------  -----  \n",
      " 0   Id             1460 non-null   int64  \n",
      " 1   MSSubClass     1460 non-null   int64  \n",
      " 2   MSZoning       1460 non-null   object \n",
      " 3   LotFrontage    1201 non-null   float64\n",
      " 4   LotArea        1460 non-null   int64  \n",
      " 5   Street         1460 non-null   object \n",
      " 6   Alley          91 non-null     object \n",
      " 7   LotShape       1460 non-null   object \n",
      " 8   LandContour    1460 non-null   object \n",
      " 9   Utilities      1460 non-null   object \n",
      " 10  LotConfig      1460 non-null   object \n",
      " 11  LandSlope      1460 non-null   object \n",
      " 12  Neighborhood   1460 non-null   object \n",
      " 13  Condition1     1460 non-null   object \n",
      " 14  Condition2     1460 non-null   object \n",
      " 15  BldgType       1460 non-null   object \n",
      " 16  HouseStyle     1460 non-null   object \n",
      " 17  OverallQual    1460 non-null   int64  \n",
      " 18  OverallCond    1460 non-null   int64  \n",
      " 19  YearBuilt      1460 non-null   int64  \n",
      " 20  YearRemodAdd   1460 non-null   int64  \n",
      " 21  RoofStyle      1460 non-null   object \n",
      " 22  RoofMatl       1460 non-null   object \n",
      " 23  Exterior1st    1460 non-null   object \n",
      " 24  Exterior2nd    1460 non-null   object \n",
      " 25  MasVnrType     1452 non-null   object \n",
      " 26  MasVnrArea     1452 non-null   float64\n",
      " 27  ExterQual      1460 non-null   object \n",
      " 28  ExterCond      1460 non-null   object \n",
      " 29  Foundation     1460 non-null   object \n",
      " 30  BsmtQual       1423 non-null   object \n",
      " 31  BsmtCond       1423 non-null   object \n",
      " 32  BsmtExposure   1422 non-null   object \n",
      " 33  BsmtFinType1   1423 non-null   object \n",
      " 34  BsmtFinSF1     1460 non-null   int64  \n",
      " 35  BsmtFinType2   1422 non-null   object \n",
      " 36  BsmtFinSF2     1460 non-null   int64  \n",
      " 37  BsmtUnfSF      1460 non-null   int64  \n",
      " 38  TotalBsmtSF    1460 non-null   int64  \n",
      " 39  Heating        1460 non-null   object \n",
      " 40  HeatingQC      1460 non-null   object \n",
      " 41  CentralAir     1460 non-null   object \n",
      " 42  Electrical     1459 non-null   object \n",
      " 43  1stFlrSF       1460 non-null   int64  \n",
      " 44  2ndFlrSF       1460 non-null   int64  \n",
      " 45  LowQualFinSF   1460 non-null   int64  \n",
      " 46  GrLivArea      1460 non-null   int64  \n",
      " 47  BsmtFullBath   1460 non-null   int64  \n",
      " 48  BsmtHalfBath   1460 non-null   int64  \n",
      " 49  FullBath       1460 non-null   int64  \n",
      " 50  HalfBath       1460 non-null   int64  \n",
      " 51  BedroomAbvGr   1460 non-null   int64  \n",
      " 52  KitchenAbvGr   1460 non-null   int64  \n",
      " 53  KitchenQual    1460 non-null   object \n",
      " 54  TotRmsAbvGrd   1460 non-null   int64  \n",
      " 55  Functional     1460 non-null   object \n",
      " 56  Fireplaces     1460 non-null   int64  \n",
      " 57  FireplaceQu    770 non-null    object \n",
      " 58  GarageType     1379 non-null   object \n",
      " 59  GarageYrBlt    1379 non-null   float64\n",
      " 60  GarageFinish   1379 non-null   object \n",
      " 61  GarageCars     1460 non-null   int64  \n",
      " 62  GarageArea     1460 non-null   int64  \n",
      " 63  GarageQual     1379 non-null   object \n",
      " 64  GarageCond     1379 non-null   object \n",
      " 65  PavedDrive     1460 non-null   object \n",
      " 66  WoodDeckSF     1460 non-null   int64  \n",
      " 67  OpenPorchSF    1460 non-null   int64  \n",
      " 68  EnclosedPorch  1460 non-null   int64  \n",
      " 69  3SsnPorch      1460 non-null   int64  \n",
      " 70  ScreenPorch    1460 non-null   int64  \n",
      " 71  PoolArea       1460 non-null   int64  \n",
      " 72  PoolQC         7 non-null      object \n",
      " 73  Fence          281 non-null    object \n",
      " 74  MiscFeature    54 non-null     object \n",
      " 75  MiscVal        1460 non-null   int64  \n",
      " 76  MoSold         1460 non-null   int64  \n",
      " 77  YrSold         1460 non-null   int64  \n",
      " 78  SaleType       1460 non-null   object \n",
      " 79  SaleCondition  1460 non-null   object \n",
      " 80  SalePrice      1460 non-null   int64  \n",
      "dtypes: float64(3), int64(35), object(43)\n",
      "memory usage: 924.0+ KB\n"
     ]
    }
   ],
   "source": [
    "data.info()"
   ]
  },
  {
   "cell_type": "markdown",
   "id": "758b3ae8",
   "metadata": {},
   "source": [
    "### Chọn biến\n",
    "+ MSSubClass: Loại nhà ở.\n",
    "+ MSZoning: Loại quy hoạch\n",
    "+ LotFrontage: Khoảng cách ra tuyến đường gần nhất\n",
    "+ LotArea: Diện tích nhà ở\n",
    "+ Street: Loại đường tiếp cận nhà ở (đường nhựa hay đường sỏi).\n",
    "+ Alley: Loại ngõ tiếp cận với bất động sản.\n",
    "+ LotShape: Hình dạng của tài sản.\n",
    "+ LandContour: Độ phẳng của bất động sản.\n",
    "+ Utilities: Loại tiện ích có sẵn.\n",
    "+ LotConfig: Đặc điểm lô đất (Lô trong, lô góc, ngõ cụt...)\n",
    "+ LandSlope: Độ dốc của bất động sản.\n",
    "+ Neighborhood: Vị trí thực tế trong giới hạn thành phố.\n",
    "+ Condition1: Vị trí của lô đất nằm gần những điều kiện nào.\n",
    "+ Condition2: Gần các điều kiện khác nhau 2.\n",
    "+ BldgType: Loại nhà ở.\n",
    "+ HouseStyle: Phong cách của nhà ở.\n",
    "+ OverallQual: Đánh giá vật liệu và mức độ hoàn thiện của ngôi nhà.\n",
    "+ OverallCond: Đánh giá tình trạng chung của ngôi nhà.\n",
    "+ YearBuilt: ngày xây dựng ban đầu.\n",
    "+ YearRemodAdd: Ngày tu sửa, giống với ngày xây dựng nếu như không có sự tu sửa gì.\n",
    "+ RoofStyle: Loại mái nhà.\n",
    "+ RoofMatl: Vật liệu mái nhà.\n",
    "+ Exterior1st: Vật liệu bề mặt bên ngoài ngôi nhà.\n",
    "+ Exterior2nd: Vật liệu bề mặt bao quanh ngôi nhà, nếu có 2 vật liệu trở lên.\n",
    "+ MasVnrType: Loại vật liệu dùng để ốp tường bao quanh nhà.\n",
    "+ MasVnrArea: Loại vật liệu dùng để ốp bao quanh khu vực ở.\n",
    "+ ExterQual: Đánh giá tổng thể chất lượng vật liệu bên ngoài bao quanh nhà.\n",
    "+ "
   ]
  },
  {
   "cell_type": "markdown",
   "id": "39f958ca",
   "metadata": {},
   "source": [
    "### Xử lý dữ liệu\n",
    "+ \n"
   ]
  },
  {
   "cell_type": "code",
   "execution_count": null,
   "id": "3fc8a32c",
   "metadata": {},
   "outputs": [],
   "source": []
  }
 ],
 "metadata": {
  "kernelspec": {
   "display_name": "main_projects",
   "language": "python",
   "name": "main_projects"
  },
  "language_info": {
   "codemirror_mode": {
    "name": "ipython",
    "version": 3
   },
   "file_extension": ".py",
   "mimetype": "text/x-python",
   "name": "python",
   "nbconvert_exporter": "python",
   "pygments_lexer": "ipython3",
   "version": "3.9.4"
  }
 },
 "nbformat": 4,
 "nbformat_minor": 5
}
