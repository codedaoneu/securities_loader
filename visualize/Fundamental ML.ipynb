{
 "cells": [
  {
   "cell_type": "code",
   "execution_count": 62,
   "id": "a5ea299a",
   "metadata": {},
   "outputs": [],
   "source": [
    "dis = distance_test_point_to_all_train_point(z, X)"
   ]
  },
  {
   "cell_type": "code",
   "execution_count": 63,
   "id": "6d859c00",
   "metadata": {},
   "outputs": [],
   "source": [
    "dis = np.sort(dis)"
   ]
  },
  {
   "cell_type": "code",
   "execution_count": 64,
   "id": "5d2b9620",
   "metadata": {},
   "outputs": [
    {
     "data": {
      "text/plain": [
       "array([ 5, 50])"
      ]
     },
     "execution_count": 64,
     "metadata": {},
     "output_type": "execute_result"
    }
   ],
   "source": [
    "dis"
   ]
  },
  {
   "cell_type": "code",
   "execution_count": 65,
   "id": "4d7db55d",
   "metadata": {},
   "outputs": [],
   "source": [
    "a = np.array([2,3,4,5,8,6,3,5,67,789])"
   ]
  },
  {
   "cell_type": "code",
   "execution_count": 69,
   "id": "ed5b1312",
   "metadata": {},
   "outputs": [
    {
     "data": {
      "text/plain": [
       "array([  2,   3,   3,   4,   5,   5,   6,   8,  67, 789])"
      ]
     },
     "execution_count": 69,
     "metadata": {},
     "output_type": "execute_result"
    }
   ],
   "source": [
    "a1 = np.sort(a)\n",
    "a1"
   ]
  },
  {
   "cell_type": "code",
   "execution_count": 73,
   "id": "fa2bcee2",
   "metadata": {},
   "outputs": [
    {
     "data": {
      "text/plain": [
       "array([2, 3])"
      ]
     },
     "execution_count": 73,
     "metadata": {},
     "output_type": "execute_result"
    }
   ],
   "source": [
    "a1[:2]"
   ]
  },
  {
   "cell_type": "code",
   "execution_count": 6,
   "id": "b4c520df",
   "metadata": {},
   "outputs": [],
   "source": [
    "c = [(1,'a'), (2, 'b'), (3,'c')]"
   ]
  },
  {
   "cell_type": "code",
   "execution_count": 11,
   "id": "c33e91a2",
   "metadata": {},
   "outputs": [],
   "source": [
    "test_list = [(1, 'Rash', 21), (2, 'Varsha', 20), (3, 'Kil', 19)]"
   ]
  },
  {
   "cell_type": "code",
   "execution_count": 15,
   "id": "4171b3c9",
   "metadata": {},
   "outputs": [],
   "source": [
    "res = list(zip(*c))[1]"
   ]
  },
  {
   "cell_type": "code",
   "execution_count": 16,
   "id": "1ccc61e0",
   "metadata": {},
   "outputs": [
    {
     "data": {
      "text/plain": [
       "('a', 'b', 'c')"
      ]
     },
     "execution_count": 16,
     "metadata": {},
     "output_type": "execute_result"
    }
   ],
   "source": [
    "res"
   ]
  },
  {
   "cell_type": "code",
   "execution_count": 17,
   "id": "4eb72e3b",
   "metadata": {},
   "outputs": [],
   "source": [
    "d = [2,2,2,2,2,2,3,4,5,3,3]"
   ]
  },
  {
   "cell_type": "code",
   "execution_count": 19,
   "id": "a4c687e8",
   "metadata": {},
   "outputs": [
    {
     "data": {
      "text/plain": [
       "2"
      ]
     },
     "execution_count": 19,
     "metadata": {},
     "output_type": "execute_result"
    }
   ],
   "source": [
    "max(set(d), key = d.count)"
   ]
  },
  {
   "cell_type": "code",
   "execution_count": 51,
   "id": "7797799f",
   "metadata": {},
   "outputs": [],
   "source": [
    "import numpy as np\n",
    "from sklearn import neighbors, datasets\n",
    "from sklearn.model_selection import train_test_split\n",
    "from sklearn.metrics import accuracy_score\n",
    "\n",
    "\n",
    "def distance_point_to_point(test_point, train_point):\n",
    "    d = test_point - train_point.reshape(test_point.shape)\n",
    "    return np.sum(d*d)\n",
    "\n",
    "\n",
    "def distance_test_point_to_all_train_point(test_point, train_point_matrix):\n",
    "    X2 = np.sum(train_point_matrix*train_point_matrix, 1)\n",
    "    z2 = np.sum(test_point*test_point)\n",
    "    return X2 + z2 - 2*train_point_matrix.dot(test_point)\n",
    "\n",
    "\n",
    "def get_k_nearest_neighbors(distances_array, k):\n",
    "    sorted = np.sort(distances_array)\n",
    "    return sorted[:k]\n",
    "\n",
    "\n",
    "def weight(distances):\n",
    "    sigma2 = 0.5\n",
    "    return np.exp(-distances ** 2 / sigma2)\n",
    "\n",
    "\n",
    "def k_nearest_neighbors(train_set, train_label, test_set, k):\n",
    "    result = []\n",
    "    for test_point in test_set:\n",
    "        distances = distance_test_point_to_all_train_point(test_point, train_set)\n",
    "        weight_distances = distances\n",
    "        trained = sorted(list(tuple(zip(weight_distances, train_label))), key=lambda x: x[0])\n",
    "        k_nearest_point = trained[:k]\n",
    "        label = list(zip(*k_nearest_point))[1]\n",
    "        result.append(max(set(label), key = label.count))\n",
    "    return np.array(result)"
   ]
  },
  {
   "cell_type": "code",
   "execution_count": 52,
   "id": "41c9bd20",
   "metadata": {},
   "outputs": [],
   "source": [
    "iris = datasets.load_iris()\n",
    "iris_x = iris.data\n",
    "iris_y = iris.target"
   ]
  },
  {
   "cell_type": "code",
   "execution_count": 53,
   "id": "975b32b4",
   "metadata": {},
   "outputs": [],
   "source": [
    "x_train, x_test, y_train, y_test = train_test_split(iris_x, iris_y, test_size=50)"
   ]
  },
  {
   "cell_type": "code",
   "execution_count": 54,
   "id": "1017a1f8",
   "metadata": {},
   "outputs": [],
   "source": [
    "y_pred = k_nearest_neighbors(train_set=x_train, train_label=y_train, test_set=x_test, k=10)"
   ]
  },
  {
   "cell_type": "code",
   "execution_count": 56,
   "id": "db18ea85",
   "metadata": {},
   "outputs": [
    {
     "name": "stdout",
     "output_type": "stream",
     "text": [
      "[1 0 0 2 2 0 2 2 0 2 2 1 1 0 2 1 2 2 1 0 2 1 2 1 0 0 1 1 1 0 0 1 2 0 2 2 1\n",
      " 1 2 0 2 0 0 1 2 1 2 2 0 2]\n",
      "[1 0 0 2 2 0 2 2 0 2 2 1 1 0 2 1 2 2 1 0 2 1 2 1 0 0 1 1 1 0 0 1 2 0 2 2 1\n",
      " 1 2 0 2 0 0 1 2 2 2 2 0 2]\n",
      "98.0\n"
     ]
    }
   ],
   "source": [
    "print(y_pred)\n",
    "print(y_test)\n",
    "print(100 * accuracy_score(y_test, y_pred))"
   ]
  },
  {
   "cell_type": "markdown",
   "id": "4dfe0a58",
   "metadata": {},
   "source": [
    "### K-mean clustering"
   ]
  },
  {
   "cell_type": "code",
   "execution_count": 2,
   "id": "3de0d029",
   "metadata": {},
   "outputs": [],
   "source": [
    "import numpy as np\n",
    "import scipy"
   ]
  },
  {
   "cell_type": "markdown",
   "id": "7bc0df8e",
   "metadata": {},
   "source": [
    "#### function"
   ]
  },
  {
   "cell_type": "code",
   "execution_count": 36,
   "id": "7392bf93",
   "metadata": {},
   "outputs": [],
   "source": [
    "def kmean_init_centroid(X, k):\n",
    "    K = X[np.random.choice(X.shape[0], k, replace=False)]\n",
    "    return K"
   ]
  },
  {
   "cell_type": "code",
   "execution_count": 31,
   "id": "78bad00b",
   "metadata": {},
   "outputs": [],
   "source": [
    "X = np.array([[1,2],[3,4],[5,6],[7,8]])"
   ]
  },
  {
   "cell_type": "code",
   "execution_count": 27,
   "id": "14cc839c",
   "metadata": {},
   "outputs": [
    {
     "data": {
      "text/plain": [
       "array([0, 0, 0, 0])"
      ]
     },
     "execution_count": 27,
     "metadata": {},
     "output_type": "execute_result"
    }
   ],
   "source": [
    "np.argmin(X, axis=1)"
   ]
  },
  {
   "cell_type": "code",
   "execution_count": 19,
   "id": "97094f80",
   "metadata": {},
   "outputs": [],
   "source": [
    "k = np.random.choice(X.shape[0],2, replace=False)"
   ]
  },
  {
   "cell_type": "code",
   "execution_count": 25,
   "id": "8948a502",
   "metadata": {},
   "outputs": [
    {
     "data": {
      "text/plain": [
       "array([[5, 6],\n",
       "       [1, 2]])"
      ]
     },
     "execution_count": 25,
     "metadata": {},
     "output_type": "execute_result"
    }
   ],
   "source": [
    "kmean_init_centroid(X,2)"
   ]
  },
  {
   "cell_type": "code",
   "execution_count": 55,
   "id": "de516e99",
   "metadata": {},
   "outputs": [],
   "source": [
    "def kmean_assign_label(X, centroids):\n",
    "    distances = scipy.spatial.distance.cdist(X, centroids)\n",
    "    return np.argmin(distances, axis=1)"
   ]
  },
  {
   "cell_type": "code",
   "execution_count": 47,
   "id": "501d0251",
   "metadata": {},
   "outputs": [],
   "source": [
    "def kmean_update_centroids(X, label, K):\n",
    "    centroid = np.zeros((K, X.shape[1]))\n",
    "    for k in range(K):\n",
    "        Xk = X[label==k,:]\n",
    "        centroid[k,:] = np.mean(Xk)\n",
    "    return centroid"
   ]
  },
  {
   "cell_type": "code",
   "execution_count": 48,
   "id": "64639813",
   "metadata": {},
   "outputs": [],
   "source": [
    "def has_converged(centroid, new_centroid):\n",
    "    return (set([tuple(a) for a in centroid])) == (set([tuple(a) for a in new_centroid]))"
   ]
  },
  {
   "cell_type": "code",
   "execution_count": 33,
   "id": "a9aa0959",
   "metadata": {},
   "outputs": [
    {
     "data": {
      "text/plain": [
       "array([[0., 0.],\n",
       "       [0., 0.],\n",
       "       [0., 0.]])"
      ]
     },
     "execution_count": 33,
     "metadata": {},
     "output_type": "execute_result"
    }
   ],
   "source": [
    "np.zeros((3, X.shape[1]))"
   ]
  },
  {
   "cell_type": "code",
   "execution_count": 60,
   "id": "8c1d249a",
   "metadata": {},
   "outputs": [],
   "source": [
    "def kmeans(X, K):\n",
    "    centroids = [kmean_init_centroid(X, K)]\n",
    "    labels = []\n",
    "    it = 0\n",
    "    while True:\n",
    "        labels.append(kmean_assign_label(X, centroids[-1]))\n",
    "        new_centroids = kmean_update_centroids(X, labels[-1], K)\n",
    "        if has_converged(new_centroids, centroids[-1]):\n",
    "            break\n",
    "        centroids.append(new_centroids)\n",
    "        it+=1\n",
    "    return centroids, labels, it"
   ]
  },
  {
   "cell_type": "code",
   "execution_count": 61,
   "id": "8408f9f8",
   "metadata": {},
   "outputs": [],
   "source": [
    "means = [[2,2], [8,3], [3,6]]\n",
    "cov = [[1,0],[0,1]]\n",
    "N= 500\n",
    "X0 = np.random.multivariate_normal(means[0], cov, N)\n",
    "X1 = np.random.multivariate_normal(means[1], cov, N)\n",
    "X2 = np.random.multivariate_normal(means[2], cov, N)\n",
    "\n",
    "X = np.concatenate((X0, X1, X2), axis=0)\n",
    "K=3\n",
    "original_label = np.asarray([0]*N + [1]*N + [2]*N).T"
   ]
  },
  {
   "cell_type": "code",
   "execution_count": 62,
   "id": "4bdd0b50",
   "metadata": {},
   "outputs": [
    {
     "data": {
      "text/plain": [
       "array([[7.98677091, 1.32024807],\n",
       "       [1.36770361, 5.71650057],\n",
       "       [9.60890989, 2.8145787 ]])"
      ]
     },
     "execution_count": 62,
     "metadata": {},
     "output_type": "execute_result"
    }
   ],
   "source": [
    "kmean_init_centroid(X, K)"
   ]
  },
  {
   "cell_type": "code",
   "execution_count": 63,
   "id": "da592bc1",
   "metadata": {},
   "outputs": [],
   "source": [
    "centroids, labels, it = kmeans(X, K)"
   ]
  },
  {
   "cell_type": "code",
   "execution_count": 65,
   "id": "e0aef0bc",
   "metadata": {},
   "outputs": [
    {
     "data": {
      "text/plain": [
       "array([[1.94440105, 1.94440105],\n",
       "       [5.73218325, 5.73218325],\n",
       "       [4.39782776, 4.39782776]])"
      ]
     },
     "execution_count": 65,
     "metadata": {},
     "output_type": "execute_result"
    }
   ],
   "source": [
    "centroids[-1]"
   ]
  },
  {
   "cell_type": "code",
   "execution_count": null,
   "id": "ef4cf727",
   "metadata": {},
   "outputs": [],
   "source": [
    "# viết chương trình phân loại chữ viết tay sử dụng thuật toán k-means. dùng thư viên sklearn để thực hiện.\n",
    "# bộ dữ liệu training là bộ dữ liệu MNIST."
   ]
  }
 ],
 "metadata": {
  "kernelspec": {
   "display_name": "main_projects",
   "language": "python",
   "name": "main_projects"
  },
  "language_info": {
   "codemirror_mode": {
    "name": "ipython",
    "version": 3
   },
   "file_extension": ".py",
   "mimetype": "text/x-python",
   "name": "python",
   "nbconvert_exporter": "python",
   "pygments_lexer": "ipython3",
   "version": "3.9.4"
  }
 },
 "nbformat": 4,
 "nbformat_minor": 5
}
