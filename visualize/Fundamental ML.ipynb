{
 "cells": [
  {
   "cell_type": "code",
   "execution_count": 1,
   "id": "8046b706",
   "metadata": {},
   "outputs": [],
   "source": [
    "import numpy as np"
   ]
  },
  {
   "cell_type": "code",
   "execution_count": 2,
   "id": "c139bef8",
   "metadata": {},
   "outputs": [],
   "source": [
    "d, N = 1000, 10000"
   ]
  },
  {
   "cell_type": "code",
   "execution_count": 3,
   "id": "16925db7",
   "metadata": {},
   "outputs": [
    {
     "data": {
      "text/plain": [
       "1000"
      ]
     },
     "execution_count": 3,
     "metadata": {},
     "output_type": "execute_result"
    }
   ],
   "source": [
    "d"
   ]
  },
  {
   "cell_type": "code",
   "execution_count": 4,
   "id": "c20f4834",
   "metadata": {},
   "outputs": [
    {
     "data": {
      "text/plain": [
       "10000"
      ]
     },
     "execution_count": 4,
     "metadata": {},
     "output_type": "execute_result"
    }
   ],
   "source": [
    "N"
   ]
  },
  {
   "cell_type": "code",
   "execution_count": 5,
   "id": "7a63c9d5",
   "metadata": {},
   "outputs": [],
   "source": [
    "X = np.random.rand(N, 5)"
   ]
  },
  {
   "cell_type": "code",
   "execution_count": 6,
   "id": "97ef5f23",
   "metadata": {},
   "outputs": [
    {
     "data": {
      "text/plain": [
       "array([[0.5903654 , 0.58185458, 0.27269209, 0.31061416, 0.83574055],\n",
       "       [0.20351405, 0.52633443, 0.8053818 , 0.23244708, 0.61777001],\n",
       "       [0.35759611, 0.66598159, 0.80557469, 0.2207136 , 0.26300984],\n",
       "       ...,\n",
       "       [0.3783147 , 0.02958715, 0.49867396, 0.85535848, 0.87648051],\n",
       "       [0.58619613, 0.31461922, 0.67678391, 0.54658291, 0.52596125],\n",
       "       [0.34846461, 0.26364028, 0.98728738, 0.62161558, 0.73165264]])"
      ]
     },
     "execution_count": 6,
     "metadata": {},
     "output_type": "execute_result"
    }
   ],
   "source": [
    "X"
   ]
  },
  {
   "cell_type": "code",
   "execution_count": 7,
   "id": "8577f913",
   "metadata": {},
   "outputs": [],
   "source": [
    "test_point = np.array([1,2,3,4,5])\n",
    "train_point = np.array([4,5,6,7,8])"
   ]
  },
  {
   "cell_type": "code",
   "execution_count": 10,
   "id": "eb23d18a",
   "metadata": {},
   "outputs": [],
   "source": [
    "def distance_point_to_point(test_point, train_point):\n",
    "    d = test_point - train_point.reshape(test_point.shape)\n",
    "    return np.sum(d*d)"
   ]
  },
  {
   "cell_type": "code",
   "execution_count": 11,
   "id": "2cd754c3",
   "metadata": {},
   "outputs": [
    {
     "data": {
      "text/plain": [
       "(45, array([-3, -3, -3, -3, -3]))"
      ]
     },
     "execution_count": 11,
     "metadata": {},
     "output_type": "execute_result"
    }
   ],
   "source": [
    "distance_point_to_point(test_point, train_point)"
   ]
  },
  {
   "cell_type": "code",
   "execution_count": 47,
   "id": "d65f2d44",
   "metadata": {},
   "outputs": [],
   "source": [
    "X = np.array([[1,2,3], [4,5,6]])"
   ]
  },
  {
   "cell_type": "code",
   "execution_count": 48,
   "id": "aa016808",
   "metadata": {},
   "outputs": [],
   "source": [
    "z = np.array([1,1,1])"
   ]
  },
  {
   "cell_type": "code",
   "execution_count": 61,
   "id": "d0c43ab0",
   "metadata": {},
   "outputs": [],
   "source": [
    "def distance_test_point_to_all_train_point(test_point, train_point_matrix):\n",
    "    X2 = np.sum(train_point_matrix*train_point_matrix, 1)\n",
    "    z2 = np.sum(test_point*test_point)\n",
    "    return X2 + z2 - 2*train_point_matrix.dot(test_point)"
   ]
  },
  {
   "cell_type": "code",
   "execution_count": 62,
   "id": "a5ea299a",
   "metadata": {},
   "outputs": [],
   "source": [
    "dis = distance_test_point_to_all_train_point(z, X)"
   ]
  },
  {
   "cell_type": "code",
   "execution_count": 63,
   "id": "6d859c00",
   "metadata": {},
   "outputs": [],
   "source": [
    "dis = np.sort(dis)"
   ]
  },
  {
   "cell_type": "code",
   "execution_count": 64,
   "id": "5d2b9620",
   "metadata": {},
   "outputs": [
    {
     "data": {
      "text/plain": [
       "array([ 5, 50])"
      ]
     },
     "execution_count": 64,
     "metadata": {},
     "output_type": "execute_result"
    }
   ],
   "source": [
    "dis"
   ]
  },
  {
   "cell_type": "code",
   "execution_count": 65,
   "id": "4d7db55d",
   "metadata": {},
   "outputs": [],
   "source": [
    "a = np.array([2,3,4,5,8,6,3,5,67,789])"
   ]
  },
  {
   "cell_type": "code",
   "execution_count": 69,
   "id": "ed5b1312",
   "metadata": {},
   "outputs": [
    {
     "data": {
      "text/plain": [
       "array([  2,   3,   3,   4,   5,   5,   6,   8,  67, 789])"
      ]
     },
     "execution_count": 69,
     "metadata": {},
     "output_type": "execute_result"
    }
   ],
   "source": [
    "a1 = np.sort(a)\n",
    "a1"
   ]
  },
  {
   "cell_type": "code",
   "execution_count": 73,
   "id": "fa2bcee2",
   "metadata": {},
   "outputs": [
    {
     "data": {
      "text/plain": [
       "array([2, 3])"
      ]
     },
     "execution_count": 73,
     "metadata": {},
     "output_type": "execute_result"
    }
   ],
   "source": [
    "a1[:2]"
   ]
  },
  {
   "cell_type": "code",
   "execution_count": 6,
   "id": "b4c520df",
   "metadata": {},
   "outputs": [],
   "source": [
    "c = [(1,'a'), (2, 'b'), (3,'c')]"
   ]
  },
  {
   "cell_type": "code",
   "execution_count": 11,
   "id": "c33e91a2",
   "metadata": {},
   "outputs": [],
   "source": [
    "test_list = [(1, 'Rash', 21), (2, 'Varsha', 20), (3, 'Kil', 19)]"
   ]
  },
  {
   "cell_type": "code",
   "execution_count": 15,
   "id": "4171b3c9",
   "metadata": {},
   "outputs": [],
   "source": [
    "res = list(zip(*c))[1]"
   ]
  },
  {
   "cell_type": "code",
   "execution_count": 16,
   "id": "1ccc61e0",
   "metadata": {},
   "outputs": [
    {
     "data": {
      "text/plain": [
       "('a', 'b', 'c')"
      ]
     },
     "execution_count": 16,
     "metadata": {},
     "output_type": "execute_result"
    }
   ],
   "source": [
    "res"
   ]
  },
  {
   "cell_type": "code",
   "execution_count": 17,
   "id": "4eb72e3b",
   "metadata": {},
   "outputs": [],
   "source": [
    "d = [2,2,2,2,2,2,3,4,5,3,3]"
   ]
  },
  {
   "cell_type": "code",
   "execution_count": 19,
   "id": "a4c687e8",
   "metadata": {},
   "outputs": [
    {
     "data": {
      "text/plain": [
       "2"
      ]
     },
     "execution_count": 19,
     "metadata": {},
     "output_type": "execute_result"
    }
   ],
   "source": [
    "max(set(d), key = d.count)"
   ]
  },
  {
   "cell_type": "code",
   "execution_count": null,
   "id": "dfef5c9f",
   "metadata": {},
   "outputs": [],
   "source": []
  },
  {
   "cell_type": "code",
   "execution_count": 51,
   "id": "7797799f",
   "metadata": {},
   "outputs": [],
   "source": [
    "import numpy as np\n",
    "from sklearn import neighbors, datasets\n",
    "from sklearn.model_selection import train_test_split\n",
    "from sklearn.metrics import accuracy_score\n",
    "\n",
    "\n",
    "def distance_point_to_point(test_point, train_point):\n",
    "    d = test_point - train_point.reshape(test_point.shape)\n",
    "    return np.sum(d*d)\n",
    "\n",
    "\n",
    "def distance_test_point_to_all_train_point(test_point, train_point_matrix):\n",
    "    X2 = np.sum(train_point_matrix*train_point_matrix, 1)\n",
    "    z2 = np.sum(test_point*test_point)\n",
    "    return X2 + z2 - 2*train_point_matrix.dot(test_point)\n",
    "\n",
    "\n",
    "def get_k_nearest_neighbors(distances_array, k):\n",
    "    sorted = np.sort(distances_array)\n",
    "    return sorted[:k]\n",
    "\n",
    "\n",
    "def weight(distances):\n",
    "    sigma2 = 0.5\n",
    "    return np.exp(-distances ** 2 / sigma2)\n",
    "\n",
    "\n",
    "def k_nearest_neighbors(train_set, train_label, test_set, k):\n",
    "    result = []\n",
    "    for test_point in test_set:\n",
    "        distances = distance_test_point_to_all_train_point(test_point, train_set)\n",
    "        weight_distances = distances\n",
    "        trained = sorted(list(tuple(zip(weight_distances, train_label))), key=lambda x: x[0])\n",
    "        k_nearest_point = trained[:k]\n",
    "        label = list(zip(*k_nearest_point))[1]\n",
    "        result.append(max(set(label), key = label.count))\n",
    "    return np.array(result)"
   ]
  },
  {
   "cell_type": "code",
   "execution_count": 52,
   "id": "41c9bd20",
   "metadata": {},
   "outputs": [],
   "source": [
    "iris = datasets.load_iris()\n",
    "iris_x = iris.data\n",
    "iris_y = iris.target"
   ]
  },
  {
   "cell_type": "code",
   "execution_count": 53,
   "id": "975b32b4",
   "metadata": {},
   "outputs": [],
   "source": [
    "x_train, x_test, y_train, y_test = train_test_split(iris_x, iris_y, test_size=50)"
   ]
  },
  {
   "cell_type": "code",
   "execution_count": 54,
   "id": "1017a1f8",
   "metadata": {},
   "outputs": [],
   "source": [
    "y_pred = k_nearest_neighbors(train_set=x_train, train_label=y_train, test_set=x_test, k=10)"
   ]
  },
  {
   "cell_type": "code",
   "execution_count": 56,
   "id": "db18ea85",
   "metadata": {},
   "outputs": [
    {
     "name": "stdout",
     "output_type": "stream",
     "text": [
      "[1 0 0 2 2 0 2 2 0 2 2 1 1 0 2 1 2 2 1 0 2 1 2 1 0 0 1 1 1 0 0 1 2 0 2 2 1\n",
      " 1 2 0 2 0 0 1 2 1 2 2 0 2]\n",
      "[1 0 0 2 2 0 2 2 0 2 2 1 1 0 2 1 2 2 1 0 2 1 2 1 0 0 1 1 1 0 0 1 2 0 2 2 1\n",
      " 1 2 0 2 0 0 1 2 2 2 2 0 2]\n",
      "98.0\n"
     ]
    }
   ],
   "source": [
    "print(y_pred)\n",
    "print(y_test)\n",
    "print(100 * accuracy_score(y_test, y_pred))"
   ]
  },
  {
   "cell_type": "code",
   "execution_count": null,
   "id": "3de0d029",
   "metadata": {},
   "outputs": [],
   "source": []
  }
 ],
 "metadata": {
  "kernelspec": {
   "display_name": "Python 3 (ipykernel)",
   "language": "python",
   "name": "python3"
  },
  "language_info": {
   "codemirror_mode": {
    "name": "ipython",
    "version": 3
   },
   "file_extension": ".py",
   "mimetype": "text/x-python",
   "name": "python",
   "nbconvert_exporter": "python",
   "pygments_lexer": "ipython3",
   "version": "3.9.4"
  }
 },
 "nbformat": 4,
 "nbformat_minor": 5
}
