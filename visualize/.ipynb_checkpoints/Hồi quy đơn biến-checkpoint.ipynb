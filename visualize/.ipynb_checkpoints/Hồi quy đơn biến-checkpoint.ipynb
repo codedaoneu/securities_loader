{
 "cells": [
  {
   "cell_type": "code",
   "execution_count": null,
   "id": "cbd0f3d6",
   "metadata": {},
   "outputs": [],
   "source": [
    "import pandas as pd\n",
    "import numpy as np\n",
    "import os\n",
    "import matplotlib.pyplot as plt\n",
    "from sklearn.linear_model import LinearRegression\n",
    "from sklearn import metrics\n",
    "import scipy\n",
    "import statsmodels.api as sm"
   ]
  },
  {
   "cell_type": "code",
   "execution_count": null,
   "id": "7949b78f",
   "metadata": {},
   "outputs": [],
   "source": [
    "data = pd.read_csv('data/house_prices/train.csv')"
   ]
  },
  {
   "cell_type": "code",
   "execution_count": null,
   "id": "0497493b",
   "metadata": {},
   "outputs": [],
   "source": [
    "train_data = pd.DataFrame(data[['SalePrice', 'LotArea']]).reset_index()\n",
    "del train_data['index']\n",
    "train_data = train_data.rename(columns={'SalePrice': 'Y', 'LotArea': 'X'})"
   ]
  },
  {
   "cell_type": "code",
   "execution_count": null,
   "id": "5f58ee04",
   "metadata": {
    "scrolled": false
   },
   "outputs": [],
   "source": [
    "plt.figure(figsize=(10,8))\n",
    "\n",
    "plt.subplot(2,1,1)\n",
    "\n",
    "n, bins, patches = plt.hist(train_data['Y'], 50, density=True, facecolor='g', label='X')\n",
    "plt.grid(True)\n",
    "\n",
    "plt.subplot(2,1,2)\n",
    "\n",
    "n, bins, patches = plt.hist(train_data['X'], 50, density=False, facecolor='g', label='X')\n",
    "plt.grid(True)\n",
    "plt.show()"
   ]
  },
  {
   "cell_type": "markdown",
   "id": "2f80e5c7",
   "metadata": {},
   "source": [
    "## Nhận xét:\n",
    "\n",
    "Trên đồ thị, ta có thể thấy phân phối của cả giá nhà và diện tích đều lệch trái, tuy nhiên khoảng giá trị của diện tích lại phân bố rất hẹp nếu so với giá nhà, điều này thể hiện rằng có thể giá nhà còn phụ thuộc vào nhiều các yếu tố khác, vì cùng một diện tích, nhưng khoảng giá lại phân bố rất rộng. "
   ]
  },
  {
   "cell_type": "code",
   "execution_count": null,
   "id": "7aa7f6f7",
   "metadata": {
    "scrolled": true
   },
   "outputs": [],
   "source": [
    "# Ước lượng mô hình hồi quy:\n",
    "# Chuẩn bị dữ liệu\n",
    "X = train_data['X'].values.reshape(-1,1)\n",
    "y = train_data['Y'].values.reshape(-1,1)"
   ]
  },
  {
   "cell_type": "markdown",
   "id": "bd89ac3a",
   "metadata": {},
   "source": [
    "### Hồi quy tuyến tính theo phương pháp OLS sử dụng thư viện sklearn"
   ]
  },
  {
   "cell_type": "code",
   "execution_count": null,
   "id": "d286270c",
   "metadata": {},
   "outputs": [],
   "source": [
    "# Khởi tạo mô hình - Mô hình có hệ số chặn\n",
    "reg = LinearRegression(fit_intercept = True)\n",
    "# traning mô hình\n",
    "reg.fit(X, y)\n",
    "y_pred = reg.predict(X)\n",
    "print(reg.intercept_)\n",
    "print(reg.coef_)"
   ]
  },
  {
   "cell_type": "code",
   "execution_count": null,
   "id": "1b628538",
   "metadata": {},
   "outputs": [],
   "source": [
    "# Các chỉ số đánh giá mô hình\n",
    "# - R2\n",
    "# - R2 hiệu chỉnh. \n",
    "# Công thức: r2_adjusted = 1 - (1 - r2)(n-1)/(n-p-1)\n",
    "\n",
    "# Gọi n là kích thước mẫu\n",
    "# Gọi p là số biến độc lập có trong trong mô hình\n",
    "# Ta có:\n",
    "n = len(X)\n",
    "p = 1\n",
    "r2 = metrics.r2_score(y, y_pred)\n",
    "r2_adjusted = 1 - (1 - r2)*(n-1)/(n-p-1)\n",
    "print(r2)\n",
    "print(r2_adjusted)"
   ]
  },
  {
   "cell_type": "code",
   "execution_count": null,
   "id": "8ca14ba7",
   "metadata": {},
   "outputs": [],
   "source": [
    "# visual OLS model\n",
    "plt.figure(figsize=(12,10))\n",
    "plt.subplot(2,1,1)\n",
    "plt.plot(X, y_pred, color='r')\n",
    "plt.scatter(X, y)\n",
    "plt.ylabel('House Price', fontsize=14)\n",
    "plt.xlabel('LotArea', fontsize=14)\n",
    "\n",
    "plt.show()"
   ]
  },
  {
   "cell_type": "code",
   "execution_count": null,
   "id": "9fd4b814",
   "metadata": {},
   "outputs": [],
   "source": [
    "# Khởi tạo mô hình - Mô hình không có hệ số chặn\n",
    "reg = LinearRegression(fit_intercept = False)\n",
    "# traning mô hình\n",
    "reg.fit(X, y)\n",
    "y_pred = reg.predict(X)\n",
    "print(reg.intercept_)\n",
    "print(reg.coef_)"
   ]
  },
  {
   "cell_type": "code",
   "execution_count": null,
   "id": "ccb3ee75",
   "metadata": {},
   "outputs": [],
   "source": [
    "# Các chỉ số đánh giá mô hình\n",
    "# - R2\n",
    "# - R2 hiệu chỉnh. \n",
    "# Công thức: r2_adjusted = 1 - (1 - r2)(n-1)/(n-p-1)\n",
    "\n",
    "# Gọi n là kích thước mẫu\n",
    "# Gọi p là số biến độc lập có trong trong mô hình\n",
    "# Ta có:\n",
    "n = len(X)\n",
    "p = 1\n",
    "r2 = metrics.r2_score(y, y_pred)\n",
    "r2_adjusted = 1 - (1 - r2)*(n-1)/(n-p-1)\n",
    "print(r2)\n",
    "print(r2_adjusted)"
   ]
  },
  {
   "cell_type": "code",
   "execution_count": null,
   "id": "515acc60",
   "metadata": {},
   "outputs": [],
   "source": [
    "# visual OLS model\n",
    "plt.figure(figsize=(12,10))\n",
    "plt.subplot(2,1,1)\n",
    "plt.plot(X, y_pred, color='r')\n",
    "plt.scatter(X, y)\n",
    "plt.ylabel('House Price', fontsize=14)\n",
    "plt.xlabel('LotArea', fontsize=14)\n",
    "\n",
    "plt.show()"
   ]
  },
  {
   "cell_type": "markdown",
   "id": "a4a7c267",
   "metadata": {},
   "source": [
    "### Hồi quy tuyến tính theo phương pháp OLS sử dụng thư viện statsmodels"
   ]
  },
  {
   "cell_type": "code",
   "execution_count": null,
   "id": "485b0180",
   "metadata": {},
   "outputs": [],
   "source": [
    "# Ước lượng mô hình hồi quy:\n",
    "\n",
    "X = train_data['X'].values.reshape(-1,1)\n",
    "y = train_data['Y'].values.reshape(-1,1)"
   ]
  },
  {
   "cell_type": "code",
   "execution_count": null,
   "id": "556f6713",
   "metadata": {
    "scrolled": false
   },
   "outputs": [],
   "source": [
    "mod = sm.OLS(y, sm.add_constant(X))\n",
    "res = mod.fit()\n",
    "\n",
    "print(res.summary())"
   ]
  },
  {
   "cell_type": "code",
   "execution_count": null,
   "id": "66a8b3e5",
   "metadata": {
    "scrolled": false
   },
   "outputs": [],
   "source": [
    "mod = sm.OLS(y, X)\n",
    "res = mod.fit()\n",
    "\n",
    "print(res.summary())"
   ]
  },
  {
   "cell_type": "markdown",
   "id": "1cffb631",
   "metadata": {},
   "source": [
    "# Đọc và diễn giải kết quả ước lượng.\n",
    "**Lưu ý: Cả hai thư viện đều cho kết quả ước lượng là giống nhau, tuy nhiên do kết quả của thư viên statsmodel trực quan hơn nên ta sẽ sử dụng bảng kết quả này để trình bày**"
   ]
  },
  {
   "cell_type": "markdown",
   "id": "dc298f8b",
   "metadata": {},
   "source": [
    "## 1 Hồi quy tuyến tính theo phương pháp OLS có hệ số chặn.\n",
    "### 1. Diễn giải kết quả ước lượng:\n",
    "\n",
    "Hệ số chặn - intercept = 158836 có ý nghĩa là giá khởi điểm của một căn hộ có diện tích 0 m2 là 158836 $. Điều này là phi thực tế, tuy nhiên ta sẽ đối chiếu với kết quả mô hình hồi quy không có hệ số chặn sau.\n",
    "\n",
    "Hệ số góc - beta1 = 2.1 có ý nghĩa là khi diện tích tăng lên 1 đơn vị, thì giá của căn hộ sẽ tăng lên tương ứng 2.1 đơn vị giá. Ví dụ, Với căn hộ có diện tích là 1 m2 thì theo kết quả ước lượng của mô hình có hệ số chặn, giá của căn hộ này sẽ là 158836 + 2.1 = 158838.1 $.\n",
    "\n",
    "Sai số chuẩn của hệ số chặn _std err_ = 2914.7 và của hệ số góc = 0.201 thể hiện mức độ dao động của giá trị ước lượng tương ứng. Với hệ số chặn, _std err_ = 2914.7 có ý nghĩa là độ dao động khi ước lượng hệ số chặn là khoảng 2914.7 $, còn với hệ số góc, sai số gặp phải khi ước lượng là khoảng 0.2 đơn vị. Nếu so với giá trị ước lượng hệ số góc là 2.1 thì sai số này chiếm khoảng 10% giá trị ước lượng, môt con số có thể chấp nhận được.\n",
    "\n",
    "\n",
    "### 2. Giải thích các chỉ số đánh giá:\n",
    "\n",
    "R-squared: Chỉ số R bình phương = 0.070 có ý nghĩa là thay đổi của biến độc lập chỉ có thể giải thích được khoảng 7% sự biến đổi của biến phụ thuộc. Điều này cũng tương đối dễ hiểu vì trong thực tế, giá nhà được quyết định bởi nhiều yếu tố, không chỉ đơn giản là diện tích của căn nhà đó."
   ]
  },
  {
   "cell_type": "markdown",
   "id": "01bf2876",
   "metadata": {},
   "source": [
    "## So sánh kết quả ước lượng của mô hình có hệ số chặn và không có hệ số chặn\n",
    "### 1. Kết quả ước lượng.\n",
    "\n",
    "Mô hình có hệ số chặn cho phép ta ước lượng giá nhà theo mức độ gia tăng diện tích. Nhưng với mô hình không có hệ số chặn cho ta một cách nhìn khác.\n",
    "Nếu lấy giá tiền của căn hộ chia cho diện tích và lấy bình quân, số nhận được cũng chính là mức giá trung bình của nhà đất theo cách hiểu của thị trường. Đây cũng chính là ý nghĩa hệ số ước lượng của mô hình không có hệ số chặn.\n",
    "\n",
    "Theo cách giải thích trên ta suy ra một số logic sau:\n",
    "+ Căn hộ có diện tích là 0 m2 thì có giá tiền = 0 (Hệ số chặn = 0)\n",
    "+ Giá trung bình mỗi mét vuông đất = Hệ số góc ước lượng = 10.0484 ($/m2)\n",
    "\n",
    "Sai số của ước lượng = 0.2 là rất nhỏ (chỉ chiểm 1%) kết quả ước lượng, như vậy có thể thấy việc ước lượng giá của một căn hộ thông qua giá trung bình này có mức độ chính xác tương đối cao.\n",
    "\n",
    "### 2. Đánh giá mô hình\n",
    "\n",
    "Kết quả tính toán R-squared ở mô hình không có hệ số chặn cho thấy cải thiện đáng kinh ngạc so với mô hình không có hệ số chặn. Theo đó, chúng ta đã có thể giải thích được đến 54.4% sự biến đổi của biến phụ thuộc theo biến độc lập là diện tích của lô đất. \n",
    "\n",
    "### 3. Kết luận\n",
    "\n",
    "Bằng việc chuyển cách tính toán về logic thông thường, chúng ta đã cải thiện đáng kể khả năng ước lượng cho mô hình, vì vậy, tùy vào từng bài toán cụ thể, ta hoàn toàn có thể quyết định dạng của mô hình để gia tăng khả năng tính toán một cách nhanh chóng.\n",
    "\n",
    "### R-squared (uncentered)\n",
    "\n",
    "Trong kết quả ước lượng của thư viện statsmodels, ta gặp hệ số xác định R bình phương (uncentered), lý do sử dụng nó ở đây là để đặc trưng cho mô hình không có hệ số góc. Cách tính toán của 2 chỉ số này là khác nhau để tránh ảnh hưởng của việc bị khuyết đi hệ số chặn ở mô hình hồi quy không có hệ số chặn.\n",
    "\n",
    "Chi tiết công thức có thể xem ở [link](https://help.fsight.ru/en/mergedProjects/lib/05_statistics/uimodellind_determcoeff_r2.htm) sau."
   ]
  }
 ],
 "metadata": {
  "kernelspec": {
   "display_name": "main_projects",
   "language": "python",
   "name": "main_projects"
  },
  "language_info": {
   "codemirror_mode": {
    "name": "ipython",
    "version": 3
   },
   "file_extension": ".py",
   "mimetype": "text/x-python",
   "name": "python",
   "nbconvert_exporter": "python",
   "pygments_lexer": "ipython3",
   "version": "3.9.4"
  }
 },
 "nbformat": 4,
 "nbformat_minor": 5
}
