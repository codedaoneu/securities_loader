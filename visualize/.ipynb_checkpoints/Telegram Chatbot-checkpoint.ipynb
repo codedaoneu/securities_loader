{
 "cells": [
  {
   "cell_type": "code",
   "execution_count": 24,
   "id": "c9007ec5",
   "metadata": {},
   "outputs": [],
   "source": [
    "import requests\n",
    "from datetime import datetime"
   ]
  },
  {
   "cell_type": "code",
   "execution_count": 25,
   "id": "6f208b21",
   "metadata": {},
   "outputs": [],
   "source": [
    "TOKEN = \"\"\n",
    "chat_id = \"\""
   ]
  },
  {
   "cell_type": "code",
   "execution_count": 27,
   "id": "2c2149b9",
   "metadata": {},
   "outputs": [],
   "source": [
    "current_date = datetime.today().strftime('%Y-%m-%d')"
   ]
  },
  {
   "cell_type": "code",
   "execution_count": 29,
   "id": "6e3561e8",
   "metadata": {},
   "outputs": [
    {
     "name": "stdout",
     "output_type": "stream",
     "text": [
      "hello me, today is 2024-03-14\n"
     ]
    }
   ],
   "source": [
    "message = \"hello me, today is {}\".format(current_date)\n",
    "print(message)"
   ]
  },
  {
   "cell_type": "code",
   "execution_count": 30,
   "id": "835e587c",
   "metadata": {
    "scrolled": true
   },
   "outputs": [
    {
     "name": "stdout",
     "output_type": "stream",
     "text": [
      "{'ok': True, 'result': {'message_id': 3, 'from': {'id': 7132418050, 'is_bot': True, 'first_name': 'BOT01', 'username': 'nguyenvanthangnqn_bot'}, 'chat': {'id': -4195522497, 'title': 'Bot group', 'type': 'group', 'all_members_are_administrators': True}, 'date': 1710406205, 'text': 'hello me, today is 2024-03-14'}}\n"
     ]
    }
   ],
   "source": [
    "url = f\"https://api.telegram.org/bot{TOKEN}/sendMessage?chat_id={chat_id}&text={message}\"\n",
    "print(requests.get(url).json()) # this sends the message"
   ]
  },
  {
   "cell_type": "code",
   "execution_count": null,
   "id": "0eb8fc1d",
   "metadata": {},
   "outputs": [],
   "source": []
  }
 ],
 "metadata": {
  "hide_input": false,
  "kernelspec": {
   "display_name": "Python [conda env:.conda-thangnv] *",
   "language": "python",
   "name": "conda-env-.conda-thangnv-py"
  },
  "language_info": {
   "codemirror_mode": {
    "name": "ipython",
    "version": 3
   },
   "file_extension": ".py",
   "mimetype": "text/x-python",
   "name": "python",
   "nbconvert_exporter": "python",
   "pygments_lexer": "ipython3",
   "version": "3.8.16"
  }
 },
 "nbformat": 4,
 "nbformat_minor": 5
}
