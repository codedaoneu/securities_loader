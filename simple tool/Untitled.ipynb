{
 "cells": [
  {
   "cell_type": "code",
   "execution_count": 155,
   "id": "750d92fa",
   "metadata": {},
   "outputs": [],
   "source": [
    "import numpy as np\n",
    "from sklearn.cluster import KMeans \n",
    "import matplotlib.pyplot as plt\n",
    "from scipy.spatial.distance import cdist\n",
    "from sklearn.metrics import accuracy_score\n",
    "import cv2\n",
    "from PIL import Image\n"
   ]
  },
  {
   "cell_type": "code",
   "execution_count": 13,
   "id": "cb3bb481",
   "metadata": {},
   "outputs": [],
   "source": [
    "from keras.datasets import mnist"
   ]
  },
  {
   "cell_type": "code",
   "execution_count": 14,
   "id": "48d675dc",
   "metadata": {},
   "outputs": [],
   "source": [
    "(train_X, train_y), (test_X, test_y) = mnist.load_data()"
   ]
  },
  {
   "cell_type": "code",
   "execution_count": 15,
   "id": "d1c9d2b0",
   "metadata": {},
   "outputs": [
    {
     "data": {
      "text/plain": [
       "(60000, 28, 28)"
      ]
     },
     "execution_count": 15,
     "metadata": {},
     "output_type": "execute_result"
    }
   ],
   "source": [
    "train_X.shape"
   ]
  },
  {
   "cell_type": "code",
   "execution_count": 29,
   "id": "3c2c4688",
   "metadata": {
    "scrolled": true
   },
   "outputs": [],
   "source": [
    "def show_img(img):\n",
    "    plt.imshow(img,cmap=plt.get_cmap('gray'))\n",
    "    plt.show()"
   ]
  },
  {
   "cell_type": "code",
   "execution_count": 23,
   "id": "b4d40725",
   "metadata": {},
   "outputs": [
    {
     "data": {
      "text/plain": [
       "(28, 28)"
      ]
     },
     "execution_count": 23,
     "metadata": {},
     "output_type": "execute_result"
    }
   ],
   "source": [
    "train_X[0].shape"
   ]
  },
  {
   "cell_type": "code",
   "execution_count": 24,
   "id": "8205b81c",
   "metadata": {},
   "outputs": [
    {
     "data": {
      "text/plain": [
       "array([5, 0, 4, ..., 5, 6, 8], dtype=uint8)"
      ]
     },
     "execution_count": 24,
     "metadata": {},
     "output_type": "execute_result"
    }
   ],
   "source": [
    "train_y"
   ]
  },
  {
   "cell_type": "code",
   "execution_count": 28,
   "id": "06eec80c",
   "metadata": {},
   "outputs": [],
   "source": [
    "train_X_0 = train_X[train_y==0,:]"
   ]
  },
  {
   "cell_type": "code",
   "execution_count": 124,
   "id": "2b1feb58",
   "metadata": {},
   "outputs": [
    {
     "data": {
      "image/png": "[encoded data removed]",
      "text/plain": [
       "<Figure size 640x480 with 1 Axes>"
      ]
     },
     "metadata": {},
     "output_type": "display_data"
    }
   ],
   "source": [
    "show_img(train_X[0])"
   ]
  },
  {
   "cell_type": "code",
   "execution_count": 31,
   "id": "8c0841b9",
   "metadata": {},
   "outputs": [],
   "source": [
    "X_centroid = np.mean(train_X_0, axis=0)"
   ]
  },
  {
   "cell_type": "code",
   "execution_count": 37,
   "id": "172ff11c",
   "metadata": {},
   "outputs": [
    {
     "data": {
      "text/plain": [
       "10"
      ]
     },
     "execution_count": 37,
     "metadata": {},
     "output_type": "execute_result"
    }
   ],
   "source": [
    "len(set(train_y))"
   ]
  },
  {
   "cell_type": "code",
   "execution_count": 32,
   "id": "41e4a79f",
   "metadata": {},
   "outputs": [
    {
     "data": {
      "image/png": "[encoded data removed]",
      "text/plain": [
       "<Figure size 640x480 with 1 Axes>"
      ]
     },
     "metadata": {},
     "output_type": "display_data"
    }
   ],
   "source": [
    "show_img(X_centroid)"
   ]
  },
  {
   "cell_type": "code",
   "execution_count": 143,
   "id": "da408f08",
   "metadata": {},
   "outputs": [],
   "source": [
    "def calculate_centroid(train_X, train_y):\n",
    "    centroids = []\n",
    "    for i in range(len(set(train_y))):\n",
    "        data = train_X[train_y==i,:]\n",
    "        centroid = np.mean(data, axis=0)\n",
    "        centroids.append(centroid)\n",
    "    return np.array(centroids)\n",
    "\n",
    "def distances(x_test, centroids):\n",
    "    centroids = centroids.reshape(centroids.shape[0], centroids.shape[1]*centroids.shape[2])\n",
    "    x_test = x_test.reshape(x_test.shape[0]*x_test.shape[1])\n",
    "    X2 = np.sum(centroids*centroids, 1)\n",
    "    z2 = np.sum(x_test*x_test)\n",
    "    D = X2 + z2 - 2*centroids.dot(x_test)\n",
    "    return np.argmin(D)\n",
    "\n",
    "def get_labels(test_X, centroids):\n",
    "    labels = []\n",
    "    for i in range(test_X.shape[0]):\n",
    "        labels.append(distances(test_X[i],centroids))\n",
    "    return np.array(labels)"
   ]
  },
  {
   "cell_type": "code",
   "execution_count": 146,
   "id": "2168f789",
   "metadata": {},
   "outputs": [],
   "source": [
    "centroids = calculate_centroid(train_X, train_y)\n",
    "y_pred = get_labels(test_X, centroids)"
   ]
  },
  {
   "cell_type": "code",
   "execution_count": 149,
   "id": "8acf7d95",
   "metadata": {},
   "outputs": [
    {
     "data": {
      "text/plain": [
       "0.8203"
      ]
     },
     "execution_count": 149,
     "metadata": {},
     "output_type": "execute_result"
    }
   ],
   "source": [
    "accuracy_score(test_y, y_pred)"
   ]
  },
  {
   "cell_type": "code",
   "execution_count": 57,
   "id": "f927c525",
   "metadata": {},
   "outputs": [],
   "source": [
    "a = np.array([2,4,1,5,6,7,9])"
   ]
  },
  {
   "cell_type": "code",
   "execution_count": 58,
   "id": "80b511ff",
   "metadata": {},
   "outputs": [
    {
     "name": "stdout",
     "output_type": "stream",
     "text": [
      "2\n"
     ]
    }
   ],
   "source": [
    "print(np.argmin(a))"
   ]
  },
  {
   "cell_type": "code",
   "execution_count": 133,
   "id": "c8baad39",
   "metadata": {},
   "outputs": [
    {
     "data": {
      "text/plain": [
       "10000"
      ]
     },
     "execution_count": 133,
     "metadata": {},
     "output_type": "execute_result"
    }
   ],
   "source": [
    "test_X.shape[0]"
   ]
  },
  {
   "cell_type": "code",
   "execution_count": 152,
   "id": "d92ceb7e",
   "metadata": {},
   "outputs": [],
   "source": [
    "imgGray = cv2.imread('IMG_0865.HEIC',0)"
   ]
  },
  {
   "cell_type": "code",
   "execution_count": 154,
   "id": "d12d67db",
   "metadata": {},
   "outputs": [],
   "source": [
    "imgGray"
   ]
  },
  {
   "cell_type": "code",
   "execution_count": 159,
   "id": "20f384ad",
   "metadata": {},
   "outputs": [],
   "source": [
    "img = Image.open('IMG_0865.jpg')\n",
    "imgGray = img.convert('L')\n",
    "imgGray.save('test_gray.jpg')"
   ]
  },
  {
   "cell_type": "code",
   "execution_count": 160,
   "id": "77244e98",
   "metadata": {},
   "outputs": [],
   "source": [
    "image = Image.open('test_gray.jpg')\n",
    "new_image = image.resize((28, 28))\n",
    "new_image.save('myimage_28.jpg')"
   ]
  },
  {
   "cell_type": "code",
   "execution_count": 166,
   "id": "cc908f15",
   "metadata": {},
   "outputs": [
    {
     "data": {
      "text/plain": [
       "True"
      ]
     },
     "execution_count": 166,
     "metadata": {},
     "output_type": "execute_result"
    }
   ],
   "source": [
    "img = cv2.imread('myimage_28.jpg')\n",
    "img = cv2.cvtColor(img, cv2.COLOR_BGR2GRAY)\n",
    "gray = 255 - img\n",
    "cv2.imwrite('output.jpg', gray)"
   ]
  },
  {
   "cell_type": "code",
   "execution_count": 179,
   "id": "84493be4",
   "metadata": {},
   "outputs": [],
   "source": [
    "img = cv2.imread('output.jpg')"
   ]
  },
  {
   "cell_type": "code",
   "execution_count": 180,
   "id": "d7ec5725",
   "metadata": {},
   "outputs": [],
   "source": [
    "input_img = img[:,:,0]"
   ]
  },
  {
   "cell_type": "code",
   "execution_count": 188,
   "id": "23944c55",
   "metadata": {},
   "outputs": [],
   "source": [
    "input_ls = []\n",
    "input_ls.append(input_img)\n",
    "input_ls = np.array(input_ls)"
   ]
  },
  {
   "cell_type": "code",
   "execution_count": 184,
   "id": "1dfbb750",
   "metadata": {},
   "outputs": [
    {
     "data": {
      "text/plain": [
       "28"
      ]
     },
     "execution_count": 184,
     "metadata": {},
     "output_type": "execute_result"
    }
   ],
   "source": [
    "input_img.shape[0]"
   ]
  },
  {
   "cell_type": "code",
   "execution_count": 189,
   "id": "15f89435",
   "metadata": {},
   "outputs": [
    {
     "data": {
      "text/plain": [
       "array([1])"
      ]
     },
     "execution_count": 189,
     "metadata": {},
     "output_type": "execute_result"
    }
   ],
   "source": [
    "get_labels(input_ls, centroids)"
   ]
  },
  {
   "cell_type": "code",
   "execution_count": 190,
   "id": "ef11d486",
   "metadata": {},
   "outputs": [
    {
     "data": {
      "text/plain": [
       "1"
      ]
     },
     "execution_count": 190,
     "metadata": {},
     "output_type": "execute_result"
    }
   ],
   "source": [
    "distances(input_img, centroids)"
   ]
  },
  {
   "cell_type": "code",
   "execution_count": 195,
   "id": "02f276d8",
   "metadata": {},
   "outputs": [],
   "source": [
    "def distances_all(x_test, centroids):\n",
    "    centroids = centroids.reshape(centroids.shape[0], centroids.shape[1]*centroids.shape[2])\n",
    "    x_test = x_test.reshape(x_test.shape[0]*x_test.shape[1])\n",
    "    X2 = np.sum(centroids*centroids, 1)\n",
    "    z2 = np.sum(x_test*x_test)\n",
    "    D = X2 + z2 - 2*centroids.dot(x_test)\n",
    "    return D, np.argmin(D*D)"
   ]
  },
  {
   "cell_type": "code",
   "execution_count": 196,
   "id": "f5cfb276",
   "metadata": {},
   "outputs": [],
   "source": [
    "D, label = distances_all(input_img, centroids)"
   ]
  },
  {
   "cell_type": "code",
   "execution_count": 197,
   "id": "ca3996b0",
   "metadata": {},
   "outputs": [
    {
     "data": {
      "text/plain": [
       "array([7.00099728e+11, 5.26185995e+11, 2.55294627e+11, 6.06749834e+10,\n",
       "       3.97078838e+10, 2.93324701e+11, 5.57959046e+09, 3.46872624e+09,\n",
       "       1.52115022e+11, 1.24927102e+09])"
      ]
     },
     "execution_count": 197,
     "metadata": {},
     "output_type": "execute_result"
    }
   ],
   "source": [
    "D*D"
   ]
  },
  {
   "cell_type": "code",
   "execution_count": 198,
   "id": "2e8adbd7",
   "metadata": {},
   "outputs": [
    {
     "data": {
      "text/plain": [
       "9"
      ]
     },
     "execution_count": 198,
     "metadata": {},
     "output_type": "execute_result"
    }
   ],
   "source": [
    "label"
   ]
  },
  {
   "cell_type": "code",
   "execution_count": null,
   "id": "fd003bd2",
   "metadata": {},
   "outputs": [],
   "source": []
  }
 ],
 "metadata": {
  "kernelspec": {
   "display_name": "main_projects",
   "language": "python",
   "name": "main_projects"
  },
  "language_info": {
   "codemirror_mode": {
    "name": "ipython",
    "version": 3
   },
   "file_extension": ".py",
   "mimetype": "text/x-python",
   "name": "python",
   "nbconvert_exporter": "python",
   "pygments_lexer": "ipython3",
   "version": "3.9.4"
  }
 },
 "nbformat": 4,
 "nbformat_minor": 5
}
